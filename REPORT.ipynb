{
 "cells": [
  {
   "cell_type": "markdown",
   "metadata": {},
   "source": [
    "## Report 6/18/2019"
   ]
  },
  {
   "cell_type": "markdown",
   "metadata": {},
   "source": [
    "The report below summarizes my work from the last week. You can find all of the code referenced in this notebook at https://github.com/bveeramani/raskutti."
   ]
  },
  {
   "cell_type": "markdown",
   "metadata": {},
   "source": [
    "### Model Training"
   ]
  },
  {
   "cell_type": "markdown",
   "metadata": {},
   "source": [
    "Let's try fitting a logistic regression model on the toy dataset."
   ]
  },
  {
   "cell_type": "code",
   "execution_count": 1,
   "metadata": {},
   "outputs": [
    {
     "name": "stdout",
     "output_type": "stream",
     "text": [
      "Starting training at time 2019-06-17 23:30:09.587911.\n",
      "\n",
      "BATCH_SIZE=32\n",
      "NUM_EPOCHS=64\n",
      "NUM_GPUS=2\n",
      "DEVICE=cuda:0\n",
      "\n",
      "INPUT_SHAPE=torch.Size([8])\n",
      "LABEL_SHAPE=torch.Size([])\n",
      "DATASET_SIZE=620\n",
      "\n"
     ]
    },
    {
     "name": "stderr",
     "output_type": "stream",
     "text": [
      "c:\\users\\beta\\appdata\\local\\programs\\python\\python36\\lib\\site-packages\\torch\\cuda\\nccl.py:24: UserWarning: PyTorch is not compiled with NCCL support\n",
      "  warnings.warn('PyTorch is not compiled with NCCL support')\n"
     ]
    },
    {
     "name": "stdout",
     "output_type": "stream",
     "text": [
      "ACCURACY\n",
      "0.7728\n",
      "\n"
     ]
    }
   ],
   "source": [
    "import torch\n",
    "\n",
    "from datasets import OteyP450\n",
    "from models import LogisticRegressionModel\n",
    "from train import train, test\n",
    "\n",
    "train_dataset = OteyP450(\"OteyP450/processed/train.csv\")\n",
    "test_dataset = OteyP450(\"OteyP450/processed/test.csv\")\n",
    "\n",
    "model = LogisticRegressionModel(OteyP450.NUM_FEATURES)\n",
    "\n",
    "model = train(model, train_dataset)\n",
    "test(model, test_dataset)"
   ]
  },
  {
   "cell_type": "markdown",
   "metadata": {},
   "source": [
    "### Explanations"
   ]
  },
  {
   "cell_type": "markdown",
   "metadata": {},
   "source": [
    "We can view a local attribution for the model by using the LIME explainer. "
   ]
  },
  {
   "cell_type": "code",
   "execution_count": 6,
   "metadata": {},
   "outputs": [
    {
     "name": "stderr",
     "output_type": "stream",
     "text": [
      "C:\\Users\\Beta\\Documents\\GitHub\\raskutti\\explainers.py:98: UserWarning: Matplotlib is currently using module://ipykernel.pylab.backend_inline, which is a non-GUI backend, so cannot show the figure.\n",
      "  figure.show()\n"
     ]
    },
    {
     "data": {
      "text/plain": [
       "<lime.explanation.Explanation at 0x1ddd4049860>"
      ]
     },
     "execution_count": 6,
     "metadata": {},
     "output_type": "execute_result"
    },
    {
     "data": {
      "image/png": "[encoded data removed]",
      "text/plain": [
       "<Figure size 432x288 with 1 Axes>"
      ]
     },
     "metadata": {
      "needs_background": "light"
     },
     "output_type": "display_data"
    }
   ],
   "source": [
    "from explainers import OteyP450LimeExplainer\n",
    "\n",
    "explain = OteyP450LimeExplainer(model, train_dataset)\n",
    "arbitrary_sample = test_dataset[27]\n",
    "explain(arbitrary_sample)"
   ]
  },
  {
   "cell_type": "markdown",
   "metadata": {},
   "source": [
    "We can also select the three most relevent features using the CCM explainer."
   ]
  },
  {
   "cell_type": "code",
   "execution_count": 12,
   "metadata": {},
   "outputs": [
    {
     "name": "stdout",
     "output_type": "stream",
     "text": [
      "The features selected by CCM are features [4 0 6]\n"
     ]
    },
    {
     "data": {
      "text/plain": [
       "array([4, 0, 6], dtype=int64)"
      ]
     },
     "execution_count": 12,
     "metadata": {},
     "output_type": "execute_result"
    }
   ],
   "source": [
    "from explainers import CCMExplainer\n",
    "\n",
    "explain = CCMExplainer(3)\n",
    "explain(train_dataset)"
   ]
  },
  {
   "cell_type": "markdown",
   "metadata": {},
   "source": [
    "Interestingly, the features selected by CCM are precisely the features with greatest local relevance on the above sample. More analysis is necessary to determine if this is a reoccurring pattern. "
   ]
  },
  {
   "cell_type": "markdown",
   "metadata": {},
   "source": [
    "### Comparison"
   ]
  },
  {
   "cell_type": "markdown",
   "metadata": {},
   "source": [
    "Finally, let's compare our logistic regression model with a feedforward neural network with a bottleneck architecture."
   ]
  },
  {
   "cell_type": "code",
   "execution_count": 16,
   "metadata": {},
   "outputs": [
    {
     "name": "stdout",
     "output_type": "stream",
     "text": [
      "Starting training at time 2019-06-17 23:41:13.543111.\n",
      "\n",
      "BATCH_SIZE=32\n",
      "NUM_EPOCHS=64\n",
      "NUM_GPUS=2\n",
      "DEVICE=cuda:0\n",
      "\n",
      "INPUT_SHAPE=torch.Size([8])\n",
      "LABEL_SHAPE=torch.Size([])\n",
      "DATASET_SIZE=620\n",
      "\n"
     ]
    },
    {
     "name": "stderr",
     "output_type": "stream",
     "text": [
      "c:\\users\\beta\\appdata\\local\\programs\\python\\python36\\lib\\site-packages\\torch\\cuda\\nccl.py:24: UserWarning: PyTorch is not compiled with NCCL support\n",
      "  warnings.warn('PyTorch is not compiled with NCCL support')\n"
     ]
    },
    {
     "name": "stdout",
     "output_type": "stream",
     "text": [
      "ACCURACY\n",
      "0.7572\n",
      "\n"
     ]
    }
   ],
   "source": [
    "from models import BottleneckMultiLayerPreceptron\n",
    "\n",
    "model = BottleneckMultiLayerPreceptron(OteyP450.NUM_FEATURES)\n",
    "\n",
    "model = train(model, train_dataset)\n",
    "test(model, test_dataset)"
   ]
  },
  {
   "cell_type": "markdown",
   "metadata": {},
   "source": [
    "The neural network performed comparably to the logistic regression model. The additive feature attribution for the neural network also behaved similarily on the specified sample."
   ]
  },
  {
   "cell_type": "code",
   "execution_count": 17,
   "metadata": {},
   "outputs": [
    {
     "name": "stderr",
     "output_type": "stream",
     "text": [
      "C:\\Users\\Beta\\Documents\\GitHub\\raskutti\\explainers.py:98: UserWarning: Matplotlib is currently using module://ipykernel.pylab.backend_inline, which is a non-GUI backend, so cannot show the figure.\n",
      "  figure.show()\n"
     ]
    },
    {
     "data": {
      "text/plain": [
       "<lime.explanation.Explanation at 0x1ddd41a8f60>"
      ]
     },
     "execution_count": 17,
     "metadata": {},
     "output_type": "execute_result"
    },
    {
     "data": {
      "image/png": "[encoded data removed]",
      "text/plain": [
       "<Figure size 432x288 with 1 Axes>"
      ]
     },
     "metadata": {
      "needs_background": "light"
     },
     "output_type": "display_data"
    }
   ],
   "source": [
    "explain = OteyP450LimeExplainer(model, train_dataset)\n",
    "explain(arbitrary_sample)"
   ]
  },
  {
   "cell_type": "markdown",
   "metadata": {},
   "source": [
    "The neural network may be overfit to the data. With proper hyperparameter tuning, I suspect that the neural network would outperform the logistic regression model."
   ]
  }
 ],
 "metadata": {
  "kernelspec": {
   "display_name": "Python 3",
   "language": "python",
   "name": "python3"
  },
  "language_info": {
   "codemirror_mode": {
    "name": "ipython",
    "version": 3
   },
   "file_extension": ".py",
   "mimetype": "text/x-python",
   "name": "python",
   "nbconvert_exporter": "python",
   "pygments_lexer": "ipython3",
   "version": "3.6.8"
  }
 },
 "nbformat": 4,
 "nbformat_minor": 2
}
